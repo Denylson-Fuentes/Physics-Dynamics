{
 "cells": [
  {
   "cell_type": "code",
   "execution_count": 1,
   "id": "39779734",
   "metadata": {},
   "outputs": [],
   "source": [
    "# !conda install -c conda-forge opencv -y\n",
    "# !conda install -c anaconda csvkit"
   ]
  },
  {
   "cell_type": "code",
   "execution_count": 2,
   "id": "10a693f1",
   "metadata": {},
   "outputs": [],
   "source": [
    "import cv2\n",
    "# import torch\n",
    "import numpy as np\n",
    "import matplotlib.pyplot as plt\n",
    "import matplotlib.image as image"
   ]
  },
  {
   "cell_type": "code",
   "execution_count": 19,
   "id": "5a6d7520",
   "metadata": {},
   "outputs": [],
   "source": [
    "def Gunnar_Farneback(path):\n",
    "    \n",
    "    #retrieving video from file path\n",
    "    cap = cv2.VideoCapture(path)\n",
    "    \n",
    "    flow = np.array([])\n",
    "    flows = []\n",
    "    \n",
    "    _, frame_1 = cap.read()\n",
    "    prevs = cv2.cvtColor(frame_1, cv2.COLOR_BGR2GRAY)\n",
    "    \n",
    "    \n",
    "    while True:\n",
    "        \n",
    "        _, frame_2 = cap.read()\n",
    "#         print(len(flows))\n",
    "        \n",
    "        if _ == False:\n",
    "            break\n",
    "            \n",
    "        next =  cv2.cvtColor(frame_2, cv2.COLOR_BGR2GRAY)\n",
    "        \n",
    "        flow = cv2.calcOpticalFlowFarneback(prevs, next, None, 0.5, 3, 15, 3, 5, 1.2, 0)\n",
    "#         print(flow[:, :, 0])\n",
    "        flow_1 = flow[:,:, 0]\n",
    "    \n",
    "        flows.append(flow_1)\n",
    "        \n",
    "        cv2.imwrite(\"./Flows/Flow 1/flow_image_%d.jpg\" % len(flows), flow_1)\n",
    "        \n",
    "#         cv2.imshow(\"Flows\", flow[:, :, 1])\n",
    "        \n",
    "        prevs = next\n",
    "        \n",
    "        \n",
    "    \n",
    "\n",
    "    \n"
   ]
  },
  {
   "cell_type": "code",
   "execution_count": 20,
   "id": "b126d35a",
   "metadata": {
    "scrolled": true
   },
   "outputs": [
    {
     "name": "stdout",
     "output_type": "stream",
     "text": [
      "0\n",
      "1\n",
      "2\n",
      "3\n",
      "4\n",
      "5\n",
      "6\n",
      "7\n",
      "8\n",
      "9\n",
      "10\n",
      "11\n"
     ]
    }
   ],
   "source": [
    "Gunnar_Farneback(\"./circle_noise1.avi\")"
   ]
  },
  {
   "cell_type": "code",
   "execution_count": 95,
   "id": "a069260e",
   "metadata": {},
   "outputs": [],
   "source": [
    "def compute_flow_of_flow(path):\n",
    "    \n",
    "    #Take in the path of the flow\n",
    "    \n",
    "    for i in range(1, 11):\n",
    "        \n",
    "        #Fetching first flow\n",
    "        prev_flow = cv2.imread( path + 'flow_image_%d.jpg' % i)\n",
    "        \n",
    "        #Turning previous flow into gray scale\n",
    "        prev = cv2.cvtColor(prev_flow, cv2.COLOR_BGR2GRAY)\n",
    "        \n",
    "        \n",
    "        # Fetching second flow and converting to gray scale\n",
    "        current_flow = cv2.imread(path + 'flow_image_%d.jpg' % (i+1))\n",
    "        next = cv2.cvtColor(current_flow, cv2.COLOR_BGR2GRAY)\n",
    "        \n",
    "        #Computing flow of flow\n",
    "        flow = cv2.calcOpticalFlowFarneback(prev, next, None, 0.5, 3, 15, 3, 5, 1.2, 0)\n",
    "        \n",
    "        flow_1 = flow[:, :, 0]\n",
    "        flow_2 = flow[:, :, 1]\n",
    "        \n",
    "        cv2.imwrite('./Flows/Flow of flow 1/flow_of_flow1_%d_to_%d.jpg' % (i ,(i+1)), flow_1)\n",
    "        cv2.imwrite('./Flows/Flow of flow 2/flow_of_flow2_%d_to_%d.jpg' % (i ,(i+1)), flow_2)\n",
    "        \n",
    "        if i == 10:\n",
    "            plt.imshow(flow_1)\n",
    "        prev = next"
   ]
  },
  {
   "cell_type": "code",
   "execution_count": 96,
   "id": "482b63f8",
   "metadata": {},
   "outputs": [
    {
     "data": {
      "image/png": "[encoded data removed]",
      "text/plain": [
       "<Figure size 432x288 with 1 Axes>"
      ]
     },
     "metadata": {
      "needs_background": "light"
     },
     "output_type": "display_data"
    }
   ],
   "source": [
    "compute_flow_of_flow('./Flows/Flow 1/')"
   ]
  },
  {
   "cell_type": "code",
   "execution_count": null,
   "id": "4775fe29",
   "metadata": {},
   "outputs": [],
   "source": []
  },
  {
   "cell_type": "markdown",
   "id": "77d9893e",
   "metadata": {},
   "source": [
    "# Previous Attempts and Scratch Space"
   ]
  },
  {
   "cell_type": "code",
   "execution_count": null,
   "id": "b36815c7",
   "metadata": {},
   "outputs": [],
   "source": [
    "# def run_video(path):\n",
    "#     capture = cv2.VideoCapture(path)\n",
    "    \n",
    "#     # Storage for optical flow\n",
    "#     flows_1 = np.array([])\n",
    "#     flows_2 = np.array([])\n",
    "    \n",
    "#     # Reading the first frame\n",
    "#     _, frame1 = capture.read()\n",
    "    \n",
    "#     # Convert to gray scale\n",
    "#     prvs = cv2.cvtColor(frame1, cv2.COLOR_BGR2GRAY)\n",
    "    \n",
    "#     # Create mask\n",
    "#     hsv_mask = np.zeros_like(frame1)\n",
    "    \n",
    "#     # Make image saturation to a maximum value\n",
    "#     hsv_mask[..., 1] = 255\n",
    "\n",
    "#     i = 0\n",
    "    \n",
    "#     # Till you scan the video\n",
    "#     while(1):\n",
    "                \n",
    "#         # Capture another frame and convert to gray scale\n",
    "#         _, frame2 = capture.read()\n",
    "        \n",
    "#         if len(frame2) == 0:\n",
    "#             break\n",
    "            \n",
    "#         next = cv2.cvtColor(frame2, cv2.COLOR_BGR2GRAY)\n",
    "#         print(next.shape)\n",
    "\n",
    "#         # Optical flow is now calculated\n",
    "#         flow = cv2.calcOpticalFlowFarneback(prvs, next, None, 0.5, 3, 15, 3, 5, 1.2, 0)\n",
    "#         print(flow.shape)\n",
    "        \n",
    "        \n",
    "#         # Compute magnite and angle of 2D vector\n",
    "#         mag, ang = cv2.cartToPolar(flow[..., 0], flow[..., 1])\n",
    "        \n",
    "#         #Storing all information (flow, magnitude, angle)\n",
    "#         flow1, flow2 = flow[:, :, 0], flow[:, :, 1]\n",
    "#         print(flow1.shape, flow2.shape)\n",
    "        \n",
    "        \n",
    "#         # Set image hue value according to the angle of optical flow\n",
    "#         hsv_mask[..., 0] = ang * 180 / np.pi / 2\n",
    "        \n",
    "#         # Set value as per the normalized magnitude of optical flow\n",
    "#         hsv_mask[..., 2] = cv2.normalize(mag, None, 0, 255, cv2.NORM_MINMAX)\n",
    "        \n",
    "#         # Convert to rgb\n",
    "#         rgb_representation = cv2.cvtColor(hsv_mask, cv2.COLOR_HSV2BGR)\n",
    "\n",
    "# #         cv2.imshow('flow1', flow1)\n",
    "# #         cv2.imshow('flow2', flow2)\n",
    "        \n",
    "#         cv2.imwrite('./flow1_image_%d.jpg' % i, flow1)\n",
    "#         cv2.imwrite('./flow2_image_%d.jpg' % i, flow2)\n",
    "        \n",
    "#         kk = cv2.waitKey(500) & 0xff\n",
    "#         # Press 'e' to exit the video\n",
    "# #         if kk == ord('e'):\n",
    "# #             break\n",
    "# #         # Press 's' to save the video\n",
    "# #         elif kk == ord('s'):\n",
    "# #             cv2.imwrite('Optical_image.png', frame2)\n",
    "# #             cv2.imwrite('HSV_converted_image.png', rgb_representation)\n",
    "#         i += 1\n",
    "#         prvs = next\n",
    "    \n",
    "#     capture.release()\n",
    "#     cv2.destroyAllWindows()\n",
    "    \n",
    "#     return flows\n",
    "\n",
    "# flows = run_video('./circle_noise1.avi')\n"
   ]
  },
  {
   "cell_type": "code",
   "execution_count": null,
   "id": "2a07d5cb",
   "metadata": {},
   "outputs": [],
   "source": [
    "#     #Skipping frames to have flow in a more visible spot\n",
    "#     trash_frame_1, trash_frame_2, trash_frame_3 = cap.read(), cap.read(), cap.read()\n",
    "    \n",
    "#     #Storage for the flow\n",
    "#     flow = np.array([])\n",
    "    \n",
    "#     #Extracting the first and second frames for optical flow\n",
    "#     _, frame_1 = cap.read()\n",
    "#     _, frame_2 = cap.read()\n",
    "    \n",
    "#     #Next reduce dimensions of frame. From RGB to 1(Grey)\n",
    "#     gray_1, gray_2 = cv2.cvtColor(frame_1, cv2.COLOR_BGR2GRAY), cv2.cvtColor(frame_2, cv2.COLOR_BGR2GRAY)\n",
    "    \n",
    "#     #Calculating optical flow with common settings\n",
    "#     flow = cv2.calcOpticalFlowFarneback(gray_1, gray_2, None, 0.5, 3, 15, 3, 5, 1.2, 0)\n",
    "    \n",
    "#     #Save flow to file\n",
    "#     cv2.imwrite(\"./Flows/flow.jpg\", flow[:,:, 0])\n",
    "#     return flow[:,:, 0]"
   ]
  },
  {
   "cell_type": "code",
   "execution_count": 22,
   "id": "d93d328c",
   "metadata": {
    "collapsed": true
   },
   "outputs": [
    {
     "data": {
      "text/plain": [
       "<matplotlib.image.AxesImage at 0x1b56e02b340>"
      ]
     },
     "execution_count": 22,
     "metadata": {},
     "output_type": "execute_result"
    },
    {
     "data": {
      "image/png": "[encoded data removed]",
      "text/plain": [
       "<Figure size 432x288 with 1 Axes>"
      ]
     },
     "metadata": {
      "needs_background": "light"
     },
     "output_type": "display_data"
    }
   ],
   "source": [
    "# img = image.imread(\"./Flows/Flow 1/flow1_image_5.jpg\")\n",
    "# img2 = image.imread(\"./Flows/Flow 1/flow_image_5.jpg\")\n",
    "\n",
    "\n",
    "# plt.imshow(img)\n",
    "# plt.imshow(img2)"
   ]
  }
 ],
 "metadata": {
  "kernelspec": {
   "display_name": "Python 3 (ipykernel)",
   "language": "python",
   "name": "python3"
  },
  "language_info": {
   "codemirror_mode": {
    "name": "ipython",
    "version": 3
   },
   "file_extension": ".py",
   "mimetype": "text/x-python",
   "name": "python",
   "nbconvert_exporter": "python",
   "pygments_lexer": "ipython3",
   "version": "3.8.11"
  }
 },
 "nbformat": 4,
 "nbformat_minor": 5
}
